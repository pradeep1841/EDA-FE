{
 "cells": [
  {
   "cell_type": "code",
   "execution_count": 1,
   "id": "075c5ff6-d4eb-4e05-b979-a35923f4d725",
   "metadata": {},
   "outputs": [],
   "source": [
    "import pandas as pd\n",
    "import numpy as np\n",
    "from statistics import mode"
   ]
  },
  {
   "cell_type": "code",
   "execution_count": 2,
   "id": "0ce6f5df-4efa-422f-a6df-ffe1ceca2235",
   "metadata": {},
   "outputs": [],
   "source": [
    "population=np.random.randint(10,20,50)"
   ]
  },
  {
   "cell_type": "code",
   "execution_count": 3,
   "id": "54d19ff8-9168-4f40-abd9-96cb3378b56f",
   "metadata": {},
   "outputs": [
    {
     "data": {
      "text/plain": [
       "array([17, 17, 13, 17, 13, 10, 11, 19, 14, 12, 13, 16, 13, 14, 18, 11, 19,\n",
       "       13, 11, 11, 16, 12, 13, 11, 19, 15, 12, 11, 10, 16, 16, 18, 14, 18,\n",
       "       11, 17, 12, 16, 19, 10, 12, 16, 13, 16, 18, 11, 10, 10, 15, 19])"
      ]
     },
     "execution_count": 3,
     "metadata": {},
     "output_type": "execute_result"
    }
   ],
   "source": [
    "population"
   ]
  },
  {
   "cell_type": "code",
   "execution_count": 4,
   "id": "d2c7c735-7ed4-4928-8dc8-1b4acbbab8b9",
   "metadata": {},
   "outputs": [
    {
     "data": {
      "text/plain": [
       "14.16"
      ]
     },
     "execution_count": 4,
     "metadata": {},
     "output_type": "execute_result"
    }
   ],
   "source": [
    "#population.mean()\n",
    "np.mean(population)"
   ]
  },
  {
   "cell_type": "code",
   "execution_count": 5,
   "id": "1dd73d10-6447-47c0-80b9-474df76adafd",
   "metadata": {},
   "outputs": [
    {
     "data": {
      "text/plain": [
       "13.5"
      ]
     },
     "execution_count": 5,
     "metadata": {},
     "output_type": "execute_result"
    }
   ],
   "source": [
    "np.median(population)"
   ]
  },
  {
   "cell_type": "code",
   "execution_count": 6,
   "id": "9b19c322-37a9-44c3-b36b-1bb302217571",
   "metadata": {},
   "outputs": [
    {
     "data": {
      "text/plain": [
       "11"
      ]
     },
     "execution_count": 6,
     "metadata": {},
     "output_type": "execute_result"
    }
   ],
   "source": [
    "mode(population)"
   ]
  },
  {
   "cell_type": "code",
   "execution_count": 7,
   "id": "865dbb8a-b06a-441c-9e6b-6e28218d3030",
   "metadata": {},
   "outputs": [
    {
     "name": "stdout",
     "output_type": "stream",
     "text": [
      "Mean of the population: 14.16\n",
      "Median of the population: 13.5\n",
      "Mode of the population: 11\n"
     ]
    }
   ],
   "source": [
    "print(f\"Mean of the population: {np.mean(population)}\")\n",
    "print(f\"Median of the population: {np.median(population)}\")\n",
    "print(f\"Mode of the population: {mode(population)}\")"
   ]
  },
  {
   "cell_type": "code",
   "execution_count": 8,
   "id": "971de075-4f0c-4009-b886-3810c58af42b",
   "metadata": {},
   "outputs": [],
   "source": [
    "sample=np.random.choice(population,20)"
   ]
  },
  {
   "cell_type": "code",
   "execution_count": 9,
   "id": "ecc01904-a927-46c4-bd41-1beb4d2e8db5",
   "metadata": {},
   "outputs": [
    {
     "name": "stdout",
     "output_type": "stream",
     "text": [
      "Mean of the population: 14.35\n",
      "Median of the population: 14.5\n",
      "Mode of the population: 16\n"
     ]
    }
   ],
   "source": [
    "print(f\"Mean of the population: {np.mean(sample)}\")\n",
    "print(f\"Median of the population: {np.median(sample)}\")\n",
    "print(f\"Mode of the population: {mode(sample)}\")"
   ]
  },
  {
   "cell_type": "code",
   "execution_count": 10,
   "id": "e732ab9b-f773-4342-aab5-13c374395580",
   "metadata": {},
   "outputs": [],
   "source": [
    "sample1=np.random.choice(population,20)\n",
    "sample2=np.random.choice(population,20)\n",
    "sample3=np.random.choice(population,20)\n",
    "sample4=np.random.choice(population,20)"
   ]
  },
  {
   "cell_type": "code",
   "execution_count": 11,
   "id": "5334881b-02b0-4403-9826-f4b7e28c323a",
   "metadata": {},
   "outputs": [
    {
     "name": "stdout",
     "output_type": "stream",
     "text": [
      "[17 11 18 17 11 16 13 11 13 19 19 19 19 16 11 10 16 19 11 10]\n",
      "============================================================\n",
      "[19 10 18 16 13 12 13 11 13 13 17 12 11 13 12 17 10 13 16 16]\n",
      "============================================================\n",
      "[19 17 14 17 13 15 16 13 10 14 13 13 11 10 13 19 10 15 14 13]\n",
      "============================================================\n",
      "[15 10 18 13 12 16 17 19 11 11 18 16 16 16 10 16 19 14 15 14]\n"
     ]
    }
   ],
   "source": [
    "print(sample1)\n",
    "print(30*'==')\n",
    "print(sample2)\n",
    "print(30*'==')\n",
    "print(sample3)\n",
    "print(30*'==')\n",
    "print(sample4)"
   ]
  },
  {
   "cell_type": "code",
   "execution_count": 12,
   "id": "d5edb7cd-8fde-497f-8608-13873d815382",
   "metadata": {},
   "outputs": [],
   "source": [
    "mean_of_samples=[]\n",
    "all_sample=[sample1, sample2, sample3, sample4]\n",
    "for sample in all_sample:\n",
    "    mean_of_samples.append(np.mean(sample))"
   ]
  },
  {
   "cell_type": "code",
   "execution_count": 13,
   "id": "b0ebcbe5-7b70-4bcc-a2f0-2b2847b82eba",
   "metadata": {},
   "outputs": [
    {
     "data": {
      "text/plain": [
       "[14.8, 13.75, 13.95, 14.8]"
      ]
     },
     "execution_count": 13,
     "metadata": {},
     "output_type": "execute_result"
    }
   ],
   "source": [
    "mean_of_samples"
   ]
  },
  {
   "cell_type": "markdown",
   "id": "1f52cfb0-06bb-4367-8f71-b7327e7e8673",
   "metadata": {},
   "source": [
    "Central limit theorem ( random sampling | standarified sampling | cluster sampling |Systematic sampling)"
   ]
  },
  {
   "cell_type": "code",
   "execution_count": 14,
   "id": "fd2be7f6-9819-4baa-9271-ad5ae541c5d1",
   "metadata": {},
   "outputs": [],
   "source": [
    "population=np.random.binomial(10,0.5,10000)"
   ]
  },
  {
   "cell_type": "code",
   "execution_count": 15,
   "id": "06ac8eec-486c-45f9-a2ce-05ba0d22549a",
   "metadata": {},
   "outputs": [
    {
     "name": "stdout",
     "output_type": "stream",
     "text": [
      "[5 3 4 ... 6 8 5]\n"
     ]
    }
   ],
   "source": [
    "print(population)"
   ]
  },
  {
   "cell_type": "code",
   "execution_count": 16,
   "id": "f2451f9f-c45b-44c5-8008-a172ff45d8bc",
   "metadata": {},
   "outputs": [
    {
     "data": {
      "text/plain": [
       "10000"
      ]
     },
     "execution_count": 16,
     "metadata": {},
     "output_type": "execute_result"
    }
   ],
   "source": [
    "len(population)"
   ]
  },
  {
   "cell_type": "code",
   "execution_count": 17,
   "id": "7beb969d-8312-4e8e-8069-2b74e31d7999",
   "metadata": {},
   "outputs": [
    {
     "name": "stderr",
     "output_type": "stream",
     "text": [
      "/tmp/ipykernel_109/2113714884.py:2: UserWarning: \n",
      "\n",
      "`distplot` is a deprecated function and will be removed in seaborn v0.14.0.\n",
      "\n",
      "Please adapt your code to use either `displot` (a figure-level function with\n",
      "similar flexibility) or `histplot` (an axes-level function for histograms).\n",
      "\n",
      "For a guide to updating your code to use the new functions, please see\n",
      "https://gist.github.com/mwaskom/de44147ed2974457ad6372750bbe5751\n",
      "\n",
      "  sns.distplot(population)\n"
     ]
    },
    {
     "data": {
      "text/plain": [
       "<AxesSubplot: ylabel='Density'>"
      ]
     },
     "execution_count": 17,
     "metadata": {},
     "output_type": "execute_result"
    },
    {
     "data": {
      "image/png": "[encoded data removed]",
      "text/plain": [
       "<Figure size 640x480 with 1 Axes>"
      ]
     },
     "metadata": {},
     "output_type": "display_data"
    }
   ],
   "source": [
    "import seaborn as sns\n",
    "sns.distplot(population)"
   ]
  },
  {
   "cell_type": "code",
   "execution_count": 18,
   "id": "4d2137f6-d2f1-40d2-91ec-7305e1ea6365",
   "metadata": {},
   "outputs": [
    {
     "data": {
      "text/plain": [
       "3000"
      ]
     },
     "execution_count": 18,
     "metadata": {},
     "output_type": "execute_result"
    }
   ],
   "source": [
    "len(population)\n",
    "int(len(population)*.30)"
   ]
  },
  {
   "cell_type": "code",
   "execution_count": 19,
   "id": "50e6c73b-2ac5-4c5e-b8f3-6d968238a0e1",
   "metadata": {},
   "outputs": [],
   "source": [
    "size=int(len(population)*.30)"
   ]
  },
  {
   "cell_type": "code",
   "execution_count": 20,
   "id": "593556ac-1b10-413f-83bc-b9a7c59b61bd",
   "metadata": {},
   "outputs": [],
   "source": [
    "sample_mean=[]\n",
    "for i in range(1,31):\n",
    "    sample=np.random.choice(population, size=size)\n",
    "    sample_mean.append(np.mean(sample))\n",
    "    "
   ]
  },
  {
   "cell_type": "code",
   "execution_count": 21,
   "id": "d5d72254-c598-4ca0-ba5f-f65280014cf4",
   "metadata": {},
   "outputs": [
    {
     "data": {
      "text/plain": [
       "[5.008666666666667,\n",
       " 4.983,\n",
       " 5.047,\n",
       " 5.023666666666666,\n",
       " 5.021,\n",
       " 5.006333333333333,\n",
       " 4.993666666666667,\n",
       " 4.993333333333333,\n",
       " 4.998,\n",
       " 4.994666666666666,\n",
       " 5.051333333333333,\n",
       " 5.057666666666667,\n",
       " 5.0296666666666665,\n",
       " 5.016,\n",
       " 5.0216666666666665,\n",
       " 4.991333333333333,\n",
       " 5.012,\n",
       " 5.023333333333333,\n",
       " 4.9783333333333335,\n",
       " 4.9863333333333335,\n",
       " 5.021333333333334,\n",
       " 4.994666666666666,\n",
       " 5.023333333333333,\n",
       " 4.996333333333333,\n",
       " 5.0216666666666665,\n",
       " 5.056666666666667,\n",
       " 4.994,\n",
       " 4.991,\n",
       " 5.022666666666667,\n",
       " 4.947]"
      ]
     },
     "execution_count": 21,
     "metadata": {},
     "output_type": "execute_result"
    }
   ],
   "source": [
    "sample_mean"
   ]
  },
  {
   "cell_type": "code",
   "execution_count": 22,
   "id": "04e400d5-30a6-4df6-a120-69041ff861bc",
   "metadata": {},
   "outputs": [
    {
     "name": "stderr",
     "output_type": "stream",
     "text": [
      "/tmp/ipykernel_109/514007480.py:1: UserWarning: \n",
      "\n",
      "`distplot` is a deprecated function and will be removed in seaborn v0.14.0.\n",
      "\n",
      "Please adapt your code to use either `displot` (a figure-level function with\n",
      "similar flexibility) or `histplot` (an axes-level function for histograms).\n",
      "\n",
      "For a guide to updating your code to use the new functions, please see\n",
      "https://gist.github.com/mwaskom/de44147ed2974457ad6372750bbe5751\n",
      "\n",
      "  sns.distplot(sample_mean)\n"
     ]
    },
    {
     "data": {
      "text/plain": [
       "<AxesSubplot: ylabel='Density'>"
      ]
     },
     "execution_count": 22,
     "metadata": {},
     "output_type": "execute_result"
    },
    {
     "data": {
      "image/png": "[encoded data removed]",
      "text/plain": [
       "<Figure size 640x480 with 1 Axes>"
      ]
     },
     "metadata": {},
     "output_type": "display_data"
    }
   ],
   "source": [
    "sns.distplot(sample_mean)"
   ]
  },
  {
   "cell_type": "code",
   "execution_count": 23,
   "id": "1fef17a2-17f0-4dbb-838a-2f6e70ed8f98",
   "metadata": {},
   "outputs": [],
   "source": [
    "sample_mean=[]\n",
    "for i in range(1,100):\n",
    "    sample=np.random.choice(population, size=size)\n",
    "    sample_mean.append(np.mean(sample))\n",
    "    "
   ]
  },
  {
   "cell_type": "code",
   "execution_count": 24,
   "id": "3fa39d9c-d91f-41b6-b1cd-52ccad5fde5d",
   "metadata": {},
   "outputs": [
    {
     "name": "stderr",
     "output_type": "stream",
     "text": [
      "/tmp/ipykernel_109/514007480.py:1: UserWarning: \n",
      "\n",
      "`distplot` is a deprecated function and will be removed in seaborn v0.14.0.\n",
      "\n",
      "Please adapt your code to use either `displot` (a figure-level function with\n",
      "similar flexibility) or `histplot` (an axes-level function for histograms).\n",
      "\n",
      "For a guide to updating your code to use the new functions, please see\n",
      "https://gist.github.com/mwaskom/de44147ed2974457ad6372750bbe5751\n",
      "\n",
      "  sns.distplot(sample_mean)\n"
     ]
    },
    {
     "data": {
      "text/plain": [
       "<AxesSubplot: ylabel='Density'>"
      ]
     },
     "execution_count": 24,
     "metadata": {},
     "output_type": "execute_result"
    },
    {
     "data": {
      "image/png": "[encoded data removed]",
      "text/plain": [
       "<Figure size 640x480 with 1 Axes>"
      ]
     },
     "metadata": {},
     "output_type": "display_data"
    }
   ],
   "source": [
    "sns.distplot(sample_mean)"
   ]
  },
  {
   "cell_type": "code",
   "execution_count": 25,
   "id": "66fd07de-013b-434e-96a9-c6f8952f17a3",
   "metadata": {},
   "outputs": [],
   "source": [
    "sample_mean=[]\n",
    "for i in range(1,501):\n",
    "    sample=np.random.choice(population, size=size)\n",
    "    sample_mean.append(np.mean(sample))\n",
    "    "
   ]
  },
  {
   "cell_type": "code",
   "execution_count": 26,
   "id": "c8d20d77-f680-4c16-942d-a5c02086e2a7",
   "metadata": {},
   "outputs": [
    {
     "name": "stderr",
     "output_type": "stream",
     "text": [
      "/tmp/ipykernel_109/3201024972.py:1: UserWarning: \n",
      "\n",
      "`distplot` is a deprecated function and will be removed in seaborn v0.14.0.\n",
      "\n",
      "Please adapt your code to use either `displot` (a figure-level function with\n",
      "similar flexibility) or `histplot` (an axes-level function for histograms).\n",
      "\n",
      "For a guide to updating your code to use the new functions, please see\n",
      "https://gist.github.com/mwaskom/de44147ed2974457ad6372750bbe5751\n",
      "\n",
      "  sns.distplot(sample_mean,kde=True, color='red')\n"
     ]
    },
    {
     "data": {
      "text/plain": [
       "<AxesSubplot: ylabel='Density'>"
      ]
     },
     "execution_count": 26,
     "metadata": {},
     "output_type": "execute_result"
    },
    {
     "data": {
      "image/png": "[encoded data removed]",
      "text/plain": [
       "<Figure size 640x480 with 1 Axes>"
      ]
     },
     "metadata": {},
     "output_type": "display_data"
    }
   ],
   "source": [
    "sns.distplot(sample_mean,kde=True, color='red')"
   ]
  },
  {
   "cell_type": "code",
   "execution_count": 27,
   "id": "8da13122-1c2f-4d84-8377-4c6c538cac26",
   "metadata": {},
   "outputs": [],
   "source": [
    "mean_of_samples=[]\n",
    "all_sample=[sample1, sample2, sample3, sample4]\n",
    "for sample in all_sample:\n",
    "    mean_of_samples.append(np.mean(sample))"
   ]
  },
  {
   "cell_type": "code",
   "execution_count": 28,
   "id": "2b471eeb-061c-486a-9e1b-1c921c921a1e",
   "metadata": {},
   "outputs": [
    {
     "name": "stderr",
     "output_type": "stream",
     "text": [
      "/tmp/ipykernel_109/514007480.py:1: UserWarning: \n",
      "\n",
      "`distplot` is a deprecated function and will be removed in seaborn v0.14.0.\n",
      "\n",
      "Please adapt your code to use either `displot` (a figure-level function with\n",
      "similar flexibility) or `histplot` (an axes-level function for histograms).\n",
      "\n",
      "For a guide to updating your code to use the new functions, please see\n",
      "https://gist.github.com/mwaskom/de44147ed2974457ad6372750bbe5751\n",
      "\n",
      "  sns.distplot(sample_mean)\n"
     ]
    },
    {
     "data": {
      "text/plain": [
       "<AxesSubplot: ylabel='Density'>"
      ]
     },
     "execution_count": 28,
     "metadata": {},
     "output_type": "execute_result"
    },
    {
     "data": {
      "image/png": "[encoded data removed]",
      "text/plain": [
       "<Figure size 640x480 with 1 Axes>"
      ]
     },
     "metadata": {},
     "output_type": "display_data"
    }
   ],
   "source": [
    "sns.distplot(sample_mean)"
   ]
  },
  {
   "cell_type": "code",
   "execution_count": 29,
   "id": "ebf7b927-facc-4ff9-93da-3d7a516581f3",
   "metadata": {},
   "outputs": [
    {
     "data": {
      "text/plain": [
       "5.015578666666666"
      ]
     },
     "execution_count": 29,
     "metadata": {},
     "output_type": "execute_result"
    }
   ],
   "source": [
    "np.mean(sample_mean)"
   ]
  },
  {
   "cell_type": "markdown",
   "id": "cb5069b3-729c-46f4-be43-74354eb6e572",
   "metadata": {},
   "source": [
    "# Confidence Interval and Margin of Error"
   ]
  },
  {
   "cell_type": "code",
   "execution_count": 30,
   "id": "e91df542-3bc6-4283-a4db-6409a9cfb9db",
   "metadata": {},
   "outputs": [],
   "source": [
    "population=np.random.randint(10,20,50)"
   ]
  },
  {
   "cell_type": "code",
   "execution_count": 31,
   "id": "aa99cd69-b664-4cde-87c3-86a05c0af284",
   "metadata": {},
   "outputs": [
    {
     "data": {
      "text/plain": [
       "array([13, 12, 18, 18, 13, 19, 14, 15, 19, 19, 15, 17, 16, 14, 16, 12, 18,\n",
       "       13, 12, 12, 12, 18, 10, 16, 19, 15, 18, 12, 12, 18, 15, 12, 18, 18,\n",
       "       17, 10, 14, 18, 14, 11, 17, 10, 13, 17, 12, 10, 18, 15, 15, 19])"
      ]
     },
     "execution_count": 31,
     "metadata": {},
     "output_type": "execute_result"
    }
   ],
   "source": [
    "population"
   ]
  },
  {
   "cell_type": "code",
   "execution_count": 32,
   "id": "32c150f0-42d0-4925-9d5b-5131ac0f4464",
   "metadata": {},
   "outputs": [],
   "source": [
    "sample1=np.random.choice(population,20)\n",
    "sample2=np.random.choice(population,20)\n",
    "sample3=np.random.choice(population,20)\n",
    "sample4=np.random.choice(population,20)"
   ]
  },
  {
   "cell_type": "code",
   "execution_count": 33,
   "id": "add14043-a931-4543-944c-b1a75de4a8a5",
   "metadata": {},
   "outputs": [],
   "source": [
    "mean_of_sample=[]\n",
    "for i in range(1,31):\n",
    "    sample=np.random.choice(population, size=size)\n",
    "    sample_mean.append(np.mean(sample))"
   ]
  },
  {
   "cell_type": "code",
   "execution_count": 34,
   "id": "cf6c3a73-c297-4bf2-a793-e23f44a4fec1",
   "metadata": {},
   "outputs": [],
   "source": [
    "import scipy.stats as stats"
   ]
  },
  {
   "cell_type": "code",
   "execution_count": 35,
   "id": "db1ebb56-1c8d-48ad-bd3f-342ef1c47e49",
   "metadata": {
    "tags": []
   },
   "outputs": [],
   "source": [
    "#tats.norm.ppf(q=0.95)\n",
    "#stats.norm.ppf(q=0.975)\n",
    "#stats.norm.ppf(q=0.95)"
   ]
  },
  {
   "cell_type": "code",
   "execution_count": 36,
   "id": "23bccb2a-6fab-4302-b5a7-13121b745cd3",
   "metadata": {},
   "outputs": [],
   "source": [
    "z_critical=stats.norm.ppf(q=0.95)"
   ]
  },
  {
   "cell_type": "code",
   "execution_count": 37,
   "id": "1177c4a1-7af5-4a1d-91b0-ab49b52483fe",
   "metadata": {},
   "outputs": [],
   "source": [
    "t_critical=stats.t.ppf(q=0.95, df=24)"
   ]
  },
  {
   "cell_type": "code",
   "execution_count": 38,
   "id": "da98d131-5e07-4ca9-a4d0-d8fc3ea97afc",
   "metadata": {},
   "outputs": [],
   "source": [
    "margin_of_error=z_critical * (np.std(mean_of_samples)/np.sqrt(20))"
   ]
  },
  {
   "cell_type": "code",
   "execution_count": 39,
   "id": "0fce3791-3b7c-439a-9fb6-de0151356d5d",
   "metadata": {},
   "outputs": [
    {
     "data": {
      "text/plain": [
       "14.148369600705207"
      ]
     },
     "execution_count": 39,
     "metadata": {},
     "output_type": "execute_result"
    }
   ],
   "source": [
    "np.mean(mean_of_samples)-margin_of_error"
   ]
  },
  {
   "cell_type": "code",
   "execution_count": 40,
   "id": "c0a715dd-06b9-4bf7-b6f1-eab21771f82e",
   "metadata": {},
   "outputs": [
    {
     "data": {
      "text/plain": [
       "14.501630399294791"
      ]
     },
     "execution_count": 40,
     "metadata": {},
     "output_type": "execute_result"
    }
   ],
   "source": [
    "np.mean(mean_of_samples)+margin_of_error"
   ]
  },
  {
   "cell_type": "markdown",
   "id": "8574f8db-8297-443b-a956-2433ad1ad797",
   "metadata": {},
   "source": [
    "# Z test"
   ]
  },
  {
   "cell_type": "code",
   "execution_count": 97,
   "id": "0d1b5223-2948-44db-93f8-baabd255776d",
   "metadata": {},
   "outputs": [],
   "source": [
    "from numpy.random import randn\n",
    "population=randn(100)"
   ]
  },
  {
   "cell_type": "code",
   "execution_count": 98,
   "id": "c35ba868-131d-4d5a-9173-5841c9ec6946",
   "metadata": {},
   "outputs": [
    {
     "data": {
      "text/plain": [
       "array([-0.05402608, -1.24631661,  0.11261427,  0.74089981, -0.99446724,\n",
       "        0.52750442,  1.45295157,  0.38130585,  0.70289244, -1.08724974,\n",
       "        0.92915003,  0.84435557, -0.93464924,  0.98042972, -0.94313389,\n",
       "       -0.01914687,  0.07007769,  0.11254714, -0.8165851 , -1.19386108,\n",
       "        0.31120452,  0.60882117, -2.67586861, -0.50566476, -0.23728207,\n",
       "       -1.71713074, -0.35341894, -0.16102492,  0.24807555,  0.29682799,\n",
       "        0.0135256 , -0.75169742, -0.14734033, -0.34094175,  0.12385116,\n",
       "        1.84448564,  1.14350726,  1.76561145, -0.29803726,  0.70769052,\n",
       "        0.06744792, -0.96329064,  0.79316842, -1.18336724, -0.15431566,\n",
       "       -0.5599546 , -0.6915756 ,  0.5136704 , -0.39169801, -0.884503  ,\n",
       "       -0.90556296,  0.31698082, -0.48734802,  1.25718531, -1.12994975,\n",
       "        0.8614469 ,  0.4242455 , -0.4638075 , -0.50247641, -0.30555383,\n",
       "       -0.9149221 , -0.48146131,  1.25830699,  0.79253296,  0.0337575 ,\n",
       "        0.03838501,  1.0487014 , -0.02860995,  0.1458481 , -1.16554349,\n",
       "        1.69555329, -1.37026419,  1.67369011,  0.71267985, -0.40784733,\n",
       "       -0.06072243, -0.14635793,  1.04280469,  0.17822163,  0.60575266,\n",
       "        2.00209426,  1.24285964,  2.26806748, -0.41829246, -0.19572203,\n",
       "       -0.78387817,  0.28924569, -0.198581  ,  0.64683151,  0.26969343,\n",
       "       -2.17736075,  0.60829863,  1.39257409,  1.3383409 , -0.58689683,\n",
       "       -0.60856228, -0.40845832, -0.53463708, -0.57338159, -0.27172592])"
      ]
     },
     "execution_count": 98,
     "metadata": {},
     "output_type": "execute_result"
    }
   ],
   "source": [
    "population"
   ]
  },
  {
   "cell_type": "code",
   "execution_count": 99,
   "id": "c8ff40ee-7477-488c-812c-2b67b09d0373",
   "metadata": {},
   "outputs": [
    {
     "name": "stderr",
     "output_type": "stream",
     "text": [
      "/tmp/ipykernel_109/2958836585.py:1: UserWarning: \n",
      "\n",
      "`distplot` is a deprecated function and will be removed in seaborn v0.14.0.\n",
      "\n",
      "Please adapt your code to use either `displot` (a figure-level function with\n",
      "similar flexibility) or `histplot` (an axes-level function for histograms).\n",
      "\n",
      "For a guide to updating your code to use the new functions, please see\n",
      "https://gist.github.com/mwaskom/de44147ed2974457ad6372750bbe5751\n",
      "\n",
      "  sns.distplot(population)\n"
     ]
    },
    {
     "data": {
      "text/plain": [
       "<AxesSubplot: ylabel='Density'>"
      ]
     },
     "execution_count": 99,
     "metadata": {},
     "output_type": "execute_result"
    },
    {
     "data": {
      "image/png": "[encoded data removed]",
      "text/plain": [
       "<Figure size 640x480 with 1 Axes>"
      ]
     },
     "metadata": {},
     "output_type": "display_data"
    }
   ],
   "source": [
    "sns.distplot(population)"
   ]
  },
  {
   "cell_type": "code",
   "execution_count": 100,
   "id": "00a12846-9537-444d-baa9-b17e61092014",
   "metadata": {},
   "outputs": [
    {
     "ename": "SyntaxError",
     "evalue": "invalid syntax (3631055270.py, line 1)",
     "output_type": "error",
     "traceback": [
      "\u001b[0;36m  Cell \u001b[0;32mIn [100], line 1\u001b[0;36m\u001b[0m\n\u001b[0;31m    population=randn(100)|\u001b[0m\n\u001b[0m                          ^\u001b[0m\n\u001b[0;31mSyntaxError\u001b[0m\u001b[0;31m:\u001b[0m invalid syntax\n"
     ]
    }
   ],
   "source": [
    "population=randn(100)|"
   ]
  },
  {
   "cell_type": "code",
   "execution_count": 101,
   "id": "6ea312ac-670e-4af9-8f6e-c8e17ebd167d",
   "metadata": {},
   "outputs": [
    {
     "name": "stderr",
     "output_type": "stream",
     "text": [
      "/tmp/ipykernel_109/2958836585.py:1: UserWarning: \n",
      "\n",
      "`distplot` is a deprecated function and will be removed in seaborn v0.14.0.\n",
      "\n",
      "Please adapt your code to use either `displot` (a figure-level function with\n",
      "similar flexibility) or `histplot` (an axes-level function for histograms).\n",
      "\n",
      "For a guide to updating your code to use the new functions, please see\n",
      "https://gist.github.com/mwaskom/de44147ed2974457ad6372750bbe5751\n",
      "\n",
      "  sns.distplot(population)\n"
     ]
    },
    {
     "data": {
      "text/plain": [
       "<AxesSubplot: ylabel='Density'>"
      ]
     },
     "execution_count": 101,
     "metadata": {},
     "output_type": "execute_result"
    },
    {
     "data": {
      "image/png": "[encoded data removed]",
      "text/plain": [
       "<Figure size 640x480 with 1 Axes>"
      ]
     },
     "metadata": {},
     "output_type": "display_data"
    }
   ],
   "source": [
    "sns.distplot(population)"
   ]
  },
  {
   "cell_type": "code",
   "execution_count": 102,
   "id": "fec94c93-517e-47f8-93f1-1e2e5fbada2e",
   "metadata": {},
   "outputs": [
    {
     "name": "stdout",
     "output_type": "stream",
     "text": [
      "Here is the mean of the poupulation: 0.030022434155175626, here is the std dev 0.9082457754925193\n"
     ]
    }
   ],
   "source": [
    "print(f'Here is the mean of the poupulation: {np.mean(population)}, here is the std dev {np.std(population)}')"
   ]
  },
  {
   "cell_type": "code",
   "execution_count": 103,
   "id": "3b8f2302-9100-4418-972e-ec65c9d84662",
   "metadata": {},
   "outputs": [],
   "source": [
    "null_mean=0.027"
   ]
  },
  {
   "cell_type": "code",
   "execution_count": 104,
   "id": "9f286340-f9fd-47eb-86c8-0b5343c2d48a",
   "metadata": {},
   "outputs": [
    {
     "ename": "SyntaxError",
     "evalue": "invalid syntax (1552185444.py, line 1)",
     "output_type": "error",
     "traceback": [
      "\u001b[0;36m  Cell \u001b[0;32mIn [104], line 1\u001b[0;36m\u001b[0m\n\u001b[0;31m    C.I=95%\u001b[0m\n\u001b[0m           ^\u001b[0m\n\u001b[0;31mSyntaxError\u001b[0m\u001b[0;31m:\u001b[0m invalid syntax\n"
     ]
    }
   ],
   "source": [
    "C.I=95%\n",
    "ALPHA=0.5(5%)"
   ]
  },
  {
   "cell_type": "code",
   "execution_count": 105,
   "id": "d215a6e1-6fa8-438c-b9e3-a97db9bb822d",
   "metadata": {},
   "outputs": [
    {
     "ename": "NameError",
     "evalue": "name 'P' is not defined",
     "output_type": "error",
     "traceback": [
      "\u001b[0;31m---------------------------------------------------------------------------\u001b[0m",
      "\u001b[0;31mNameError\u001b[0m                                 Traceback (most recent call last)",
      "Cell \u001b[0;32mIn [105], line 1\u001b[0m\n\u001b[0;32m----> 1\u001b[0m \u001b[43mP\u001b[49m\u001b[38;5;241m<\u001b[39m\u001b[38;5;241m=\u001b[39m\u001b[38;5;241m0.05\u001b[39m \u001b[38;5;66;03m#regect the null hypothesis\u001b[39;00m\n\u001b[1;32m      2\u001b[0m P\u001b[38;5;241m>\u001b[39m\u001b[38;5;241m0.05\u001b[39m\n",
      "\u001b[0;31mNameError\u001b[0m: name 'P' is not defined"
     ]
    }
   ],
   "source": [
    "P<=0.05 #regect the null hypothesis\n",
    "P>0.05 # accept the null hypothsis"
   ]
  },
  {
   "cell_type": "code",
   "execution_count": 106,
   "id": "2eab1fe5-6955-4b10-9683-8c860f9ddb1b",
   "metadata": {},
   "outputs": [
    {
     "ename": "NameError",
     "evalue": "name 'P' is not defined",
     "output_type": "error",
     "traceback": [
      "\u001b[0;31m---------------------------------------------------------------------------\u001b[0m",
      "\u001b[0;31mNameError\u001b[0m                                 Traceback (most recent call last)",
      "Cell \u001b[0;32mIn [106], line 1\u001b[0m\n\u001b[0;32m----> 1\u001b[0m \u001b[43mP\u001b[49m\u001b[38;5;241m<\u001b[39m\u001b[38;5;241m=\u001b[39mALPHA\n\u001b[1;32m      2\u001b[0m p\u001b[38;5;241m>\u001b[39mALPHA\n",
      "\u001b[0;31mNameError\u001b[0m: name 'P' is not defined"
     ]
    }
   ],
   "source": [
    "P<=ALPHA\n",
    "p>ALPHA"
   ]
  },
  {
   "cell_type": "code",
   "execution_count": 118,
   "id": "ae51bb97-4a06-4d86-a6d5-479594e980e5",
   "metadata": {},
   "outputs": [],
   "source": [
    "#p_value=0.05\n",
    "ALPHA=0.05"
   ]
  },
  {
   "cell_type": "code",
   "execution_count": 119,
   "id": "62fd9174-fdd7-4435-8e44-8aa807a73727",
   "metadata": {},
   "outputs": [],
   "source": [
    "from statsmodels.stats.weightstats import ztest\n",
    "z_score,p_value=ztest(population,value=null_mean,alternative='larger')"
   ]
  },
  {
   "cell_type": "code",
   "execution_count": 120,
   "id": "471599c5-9cc4-4cca-bf09-e9c28f0910b8",
   "metadata": {},
   "outputs": [
    {
     "name": "stdout",
     "output_type": "stream",
     "text": [
      "Accept the null hypothesis\n"
     ]
    }
   ],
   "source": [
    "if (p_value<ALPHA):\n",
    "    print(\"reject the null hypothesis\")\n",
    "else:\n",
    "    print(\"Accept the null hypothesis\")"
   ]
  },
  {
   "cell_type": "code",
   "execution_count": 121,
   "id": "1cb3fd34-5cd1-4f16-8aff-3d9d8fe6a267",
   "metadata": {},
   "outputs": [
    {
     "data": {
      "text/plain": [
       "0.48679307305197517"
      ]
     },
     "execution_count": 121,
     "metadata": {},
     "output_type": "execute_result"
    }
   ],
   "source": [
    "p_value"
   ]
  },
  {
   "cell_type": "code",
   "execution_count": 122,
   "id": "dfb658d8-08f1-4b36-92fd-23e19b664d57",
   "metadata": {},
   "outputs": [
    {
     "data": {
      "text/plain": [
       "0.03311090560537904"
      ]
     },
     "execution_count": 122,
     "metadata": {},
     "output_type": "execute_result"
    }
   ],
   "source": [
    "z_score"
   ]
  }
 ],
 "metadata": {
  "kernelspec": {
   "display_name": "Python 3 (ipykernel)",
   "language": "python",
   "name": "python3"
  },
  "language_info": {
   "codemirror_mode": {
    "name": "ipython",
    "version": 3
   },
   "file_extension": ".py",
   "mimetype": "text/x-python",
   "name": "python",
   "nbconvert_exporter": "python",
   "pygments_lexer": "ipython3",
   "version": "3.10.6"
  }
 },
 "nbformat": 4,
 "nbformat_minor": 5
}
